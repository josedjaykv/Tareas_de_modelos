{
 "cells": [
  {
   "cell_type": "markdown",
   "metadata": {},
   "source": [
    "# José David Jayk Vanegas"
   ]
  },
  {
   "cell_type": "markdown",
   "metadata": {},
   "source": [
    "## Librerías"
   ]
  },
  {
   "cell_type": "code",
   "execution_count": 7,
   "metadata": {},
   "outputs": [],
   "source": [
    "from scipy.stats import rv_continuous, triang, binom\n",
    "import numpy as np\n",
    "import matplotlib.pyplot as plt"
   ]
  },
  {
   "cell_type": "markdown",
   "metadata": {},
   "source": [
    "## Entradas conocidas"
   ]
  },
  {
   "cell_type": "code",
   "execution_count": 8,
   "metadata": {},
   "outputs": [],
   "source": [
    "# Parámetros de la distribución de la producción\n",
    "min = 4500\n",
    "max = 9000\n",
    "moda = 6000\n",
    "c = (moda-min)/(max-min)\n",
    "\n",
    "# Distribución de la producción defectuosa\n",
    "class fraccion_defectuosa(rv_continuous):\n",
    "    def _pdf(self, x):\n",
    "        return 99*(1-x)**98"
   ]
  },
  {
   "cell_type": "markdown",
   "metadata": {},
   "source": [
    "## Entradas inciertas"
   ]
  },
  {
   "cell_type": "code",
   "execution_count": 9,
   "metadata": {},
   "outputs": [],
   "source": [
    "# Fracción defectuosa\n",
    "fraccion = fraccion_defectuosa(a=0, b=1, name='fraccion_defectuosa')\n",
    "\n",
    "def producciones():\n",
    "    # Producción bruta\n",
    "    produccion_bruta = triang.rvs(c=c, loc=min, scale=max-min, size=1)\n",
    "\n",
    "    # Producción defectuosa\n",
    "    produccion_defectuosa = binom.rvs(int(produccion_bruta), fraccion.rvs())\n",
    "\n",
    "    return produccion_bruta, produccion_defectuosa"
   ]
  },
  {
   "cell_type": "markdown",
   "metadata": {},
   "source": [
    "## Cálculos intermedios de las entradas inciertas"
   ]
  },
  {
   "cell_type": "code",
   "execution_count": 11,
   "metadata": {},
   "outputs": [
    {
     "name": "stderr",
     "output_type": "stream",
     "text": [
      "C:\\Users\\josed\\AppData\\Local\\Temp\\ipykernel_28600\\3362917139.py:9: DeprecationWarning: Conversion of an array with ndim > 0 to a scalar is deprecated, and will error in future. Ensure you extract a single element from your array before performing this operation. (Deprecated NumPy 1.25.)\n",
      "  produccion_defectuosa = binom.rvs(int(produccion_bruta), fraccion.rvs())\n",
      "C:\\Users\\josed\\AppData\\Local\\Temp\\ipykernel_28600\\2040333327.py:7: DeprecationWarning: Conversion of an array with ndim > 0 to a scalar is deprecated, and will error in future. Ensure you extract a single element from your array before performing this operation. (Deprecated NumPy 1.25.)\n",
      "  produccion_neta[i] = produccion_bruta - produccion_defectuosa\n"
     ]
    }
   ],
   "source": [
    "n = 1000\n",
    "produccion_neta = np.zeros(n)\n",
    "produccion_defectuosa_arr = []\n",
    "for i in range(n):\n",
    "    produccion_bruta,produccion_defectuosa = producciones()\n",
    "    produccion_defectuosa_arr.append(produccion_defectuosa)\n",
    "    produccion_neta[i] = produccion_bruta - produccion_defectuosa"
   ]
  },
  {
   "cell_type": "markdown",
   "metadata": {},
   "source": [
    "## Resultados"
   ]
  },
  {
   "cell_type": "code",
   "execution_count": null,
   "metadata": {},
   "outputs": [
    {
     "data": {
      "image/png": "[encoded data removed]",
      "text/plain": [
       "<Figure size 640x480 with 1 Axes>"
      ]
     },
     "metadata": {},
     "output_type": "display_data"
    },
    {
     "name": "stdout",
     "output_type": "stream",
     "text": [
      "Media: 6404.813573489756\n",
      "Varianza: 858302.5211808941\n",
      "Sesgo: 3.9918390218761785e-10\n",
      "Mínimo: 4518.593664270455\n",
      "Máximo: 8936.689919111159\n",
      "Proporcion de dias en los que se producen mas de 150 unidades defectuosas: 9.8%\n"
     ]
    }
   ],
   "source": [
    "# Histograma\n",
    "plt.figure(figsize=(8, 5))\n",
    "sns.histplot(produccion_neta, bins=80, kde=True, color=\"royalblue\")\n",
    "plt.axvline(x=0, color='r', linestyle='--', label='Equilibrio')\n",
    "plt.xlabel(\"Beneficio ($)\")\n",
    "plt.ylabel(\"Frecuencia\")\n",
    "plt.title(\"Distribución de Beneficios\")\n",
    "plt.legend()\n",
    "plt.grid()\n",
    "plt.show()\n",
    "\n",
    "# Momentos\n",
    "mean = np.mean(produccion_neta)\n",
    "var = np.var(produccion_neta)\n",
    "skew = np.mean(((produccion_neta - mean)/var)**3)\n",
    "minimo = np.min(produccion_neta)\n",
    "maximo = np.max(produccion_neta)\n",
    "\n",
    "print('Media:', mean)\n",
    "print('Varianza:', var)\n",
    "print('Sesgo:', skew)\n",
    "print('Mínimo:', minimo)\n",
    "print('Máximo:', maximo)\n",
    "\n",
    "# probabilidad de que las unidades defectuosas en un dia cualquiera sea 150 unidades\n",
    "unidades_defectuosas = len(produccion_defectuosa_arr)\n",
    "unidades_defectuosas_mayor_a_150 = sum([1 for i in produccion_defectuosa_arr if i > 150])\n",
    "proporcion = unidades_defectuosas_mayor_a_150 / unidades_defectuosas\n",
    "\n",
    "print(f'Proporcion de dias en los que se producen mas de 150 unidades defectuosas: {proporcion*100}%')"
   ]
  }
 ],
 "metadata": {
  "kernelspec": {
   "display_name": ".venv",
   "language": "python",
   "name": "python3"
  },
  "language_info": {
   "codemirror_mode": {
    "name": "ipython",
    "version": 3
   },
   "file_extension": ".py",
   "mimetype": "text/x-python",
   "name": "python",
   "nbconvert_exporter": "python",
   "pygments_lexer": "ipython3",
   "version": "3.13.1"
  }
 },
 "nbformat": 4,
 "nbformat_minor": 2
}
